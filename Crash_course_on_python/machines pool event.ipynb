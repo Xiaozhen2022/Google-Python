{
 "cells": [
  {
   "cell_type": "markdown",
   "id": "ae1b3877",
   "metadata": {},
   "source": [
    "## Monitor which computer domains and users are online in the company"
   ]
  },
  {
   "cell_type": "code",
   "execution_count": 43,
   "id": "32a9e385",
   "metadata": {},
   "outputs": [],
   "source": [
    "     \n",
    "def get_event_date(event):\n",
    "    return event.date\n",
    "    \n",
    "def current_users(events):\n",
    "    events.sort(key=get_event_date)\n",
    "    machines = {}\n",
    "    for event in events:\n",
    "        if event.machine not in machines:\n",
    "            machines[event.machine] = []\n",
    "        if event.type == 'login':\n",
    "            machines[event.machine].append(event.user)  \n",
    "        elif event.type == 'logout':\n",
    "            machines[event.machine].remove(event.user) \n",
    "    return machines\n",
    "    \n",
    "def generate_report(machines):\n",
    "    for machine, users in machines.items():\n",
    "        if len(users) > 0:\n",
    "            user_list = \",\".join(users)\n",
    "            print(\"{}:{}\".format(machine, user_list))\n",
    "                \n",
    "class Event:\n",
    "    def __init__(self, event_date, event_type, event_machine, event_user):\n",
    "        self.date = event_date\n",
    "        self.type = event_type\n",
    "        self.machine = event_machine\n",
    "        self.user = event_user\n",
    "                "
   ]
  },
  {
   "cell_type": "code",
   "execution_count": 44,
   "id": "253c8b19",
   "metadata": {},
   "outputs": [],
   "source": [
    "events = [Event('2022-01-12','login','workstation.local','jordan'),\n",
    "         Event('2022-01-14','logout','workstation.local','jordan'),\n",
    "         Event('2022-01-17','login','webserver.local','chris'),\n",
    "         Event('2022-01-18','login','webserver.local','tom')]\n"
   ]
  },
  {
   "cell_type": "code",
   "execution_count": 45,
   "id": "30669f43",
   "metadata": {},
   "outputs": [
    {
     "data": {
      "text/plain": [
       "{'workstation.local': [], 'webserver.local': ['chris', 'tom']}"
      ]
     },
     "execution_count": 45,
     "metadata": {},
     "output_type": "execute_result"
    }
   ],
   "source": [
    "current_users(events)"
   ]
  },
  {
   "cell_type": "code",
   "execution_count": 46,
   "id": "3dd878be",
   "metadata": {},
   "outputs": [
    {
     "name": "stdout",
     "output_type": "stream",
     "text": [
      "webserver.local:chris,tom\n"
     ]
    }
   ],
   "source": [
    "generate_report(current_users(events))"
   ]
  }
 ],
 "metadata": {
  "kernelspec": {
   "display_name": "Python 3 (ipykernel)",
   "language": "python",
   "name": "python3"
  },
  "language_info": {
   "codemirror_mode": {
    "name": "ipython",
    "version": 3
   },
   "file_extension": ".py",
   "mimetype": "text/x-python",
   "name": "python",
   "nbconvert_exporter": "python",
   "pygments_lexer": "ipython3",
   "version": "3.9.12"
  }
 },
 "nbformat": 4,
 "nbformat_minor": 5
}
